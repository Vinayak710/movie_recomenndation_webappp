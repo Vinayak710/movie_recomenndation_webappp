{
 "cells": [
  {
   "cell_type": "code",
   "execution_count": 1,
   "id": "6e330798",
   "metadata": {},
   "outputs": [],
   "source": [
    "import numpy as np \n",
    "import pandas as pd\n",
    "import string\n",
    "import ast\n",
    "import nltk"
   ]
  },
  {
   "cell_type": "code",
   "execution_count": 2,
   "id": "59c87574",
   "metadata": {},
   "outputs": [],
   "source": [
    "movies = pd.read_csv(\"tmdb_5000_movies.csv\")\n",
    "credit = pd.read_csv(\"tmdb_5000_credits.csv\")"
   ]
  },
  {
   "cell_type": "code",
   "execution_count": 3,
   "id": "d87309aa",
   "metadata": {},
   "outputs": [],
   "source": [
    "data= pd.merge(movies,credit,on=\"title\")"
   ]
  },
  {
   "cell_type": "code",
   "execution_count": 4,
   "id": "f823a4eb",
   "metadata": {},
   "outputs": [],
   "source": [
    "movies_data = data[[\"movie_id\",\"title\",\"overview\",\"genres\",\"keywords\",\"cast\",\"crew\"]]"
   ]
  },
  {
   "cell_type": "code",
   "execution_count": 5,
   "id": "1862a429",
   "metadata": {},
   "outputs": [],
   "source": [
    "movies_data = movies_data.dropna()\n"
   ]
  },
  {
   "cell_type": "code",
   "execution_count": 6,
   "id": "49f2bf84",
   "metadata": {},
   "outputs": [],
   "source": [
    "def convert(obj):\n",
    "    genres = []\n",
    "    for item in ast.literal_eval(obj):\n",
    "        genres.append(item[\"name\"])\n",
    "    return genres"
   ]
  },
  {
   "cell_type": "code",
   "execution_count": 7,
   "id": "0f3f01f9",
   "metadata": {},
   "outputs": [],
   "source": [
    "def convert_cast(obj):\n",
    "    cast_total = ast.literal_eval(obj)\n",
    "    cast = []\n",
    "    for i in range(0,3):\n",
    "        try:\n",
    "            cast.append(cast_total[i][\"name\"])\n",
    "        except:\n",
    "            continue\n",
    "    return cast"
   ]
  },
  {
   "cell_type": "code",
   "execution_count": 8,
   "id": "08dcf131",
   "metadata": {},
   "outputs": [],
   "source": [
    "def convert_crew(obj):\n",
    "    crew = []\n",
    "    for item in ast.literal_eval(obj):\n",
    "        if item[\"job\"]== 'Director':\n",
    "            crew.append(item[\"name\"])\n",
    "            break\n",
    "    return crew"
   ]
  },
  {
   "cell_type": "code",
   "execution_count": 9,
   "id": "a49324e8",
   "metadata": {},
   "outputs": [],
   "source": [
    "movies_data[\"genres\"] = movies_data[\"genres\"].apply(convert)"
   ]
  },
  {
   "cell_type": "code",
   "execution_count": 10,
   "id": "a3712ac7",
   "metadata": {},
   "outputs": [],
   "source": [
    "movies_data[\"keywords\"] = movies_data[\"keywords\"].apply(convert)"
   ]
  },
  {
   "cell_type": "code",
   "execution_count": 11,
   "id": "1e75a905",
   "metadata": {},
   "outputs": [],
   "source": [
    "movies_data[\"cast\"] = movies_data[\"cast\"].apply(convert_cast)"
   ]
  },
  {
   "cell_type": "code",
   "execution_count": 12,
   "id": "6e8d8c22",
   "metadata": {},
   "outputs": [],
   "source": [
    "movies_data[\"crew\"] = movies_data[\"crew\"].apply(convert_crew)       "
   ]
  },
  {
   "cell_type": "code",
   "execution_count": 13,
   "id": "adf56de9",
   "metadata": {},
   "outputs": [],
   "source": [
    "movies_data[\"overview\"] = movies_data[\"overview\"].apply(lambda x:x.split())"
   ]
  },
  {
   "cell_type": "code",
   "execution_count": 14,
   "id": "72dc4ab4",
   "metadata": {},
   "outputs": [],
   "source": [
    "movies_data[\"genres\"] = movies_data[\"genres\"].apply(lambda x:[ i.replace(\" \",\"\") for i in x])\n",
    "movies_data[\"keywords\"] = movies_data[\"keywords\"].apply(lambda x:[ i.replace(\" \",\"\") for i in x])\n",
    "movies_data[\"cast\"] = movies_data[\"cast\"].apply(lambda x:[ i.replace(\" \",\"\") for i in x])\n",
    "movies_data[\"crew\"] = movies_data[\"crew\"].apply(lambda x:[ i.replace(\" \",\"\") for i in x])"
   ]
  },
  {
   "cell_type": "code",
   "execution_count": 15,
   "id": "cfd180f0",
   "metadata": {},
   "outputs": [],
   "source": [
    "movies_data[\"tag\"] =movies_data[\"genres\"]+ movies_data[\"keywords\"]+ movies_data[\"cast\"]+ movies_data[\"crew\"] +movies_data[\"overview\"]"
   ]
  },
  {
   "cell_type": "code",
   "execution_count": 16,
   "id": "6c936e9a",
   "metadata": {},
   "outputs": [],
   "source": [
    "new_movies_data = movies_data[[\"movie_id\",\"title\",\"tag\"]]"
   ]
  },
  {
   "cell_type": "code",
   "execution_count": 17,
   "id": "eb43fdcb",
   "metadata": {},
   "outputs": [
    {
     "name": "stderr",
     "output_type": "stream",
     "text": [
      "C:\\Users\\ASUS\\AppData\\Local\\Temp\\ipykernel_14884\\1215490741.py:1: SettingWithCopyWarning: \n",
      "A value is trying to be set on a copy of a slice from a DataFrame.\n",
      "Try using .loc[row_indexer,col_indexer] = value instead\n",
      "\n",
      "See the caveats in the documentation: https://pandas.pydata.org/pandas-docs/stable/user_guide/indexing.html#returning-a-view-versus-a-copy\n",
      "  new_movies_data[\"tag\"] = new_movies_data[\"tag\"].apply(lambda x: \" \".join(x))\n"
     ]
    }
   ],
   "source": [
    "new_movies_data[\"tag\"] = new_movies_data[\"tag\"].apply(lambda x: \" \".join(x))"
   ]
  },
  {
   "cell_type": "code",
   "execution_count": 18,
   "id": "3f41dccd",
   "metadata": {},
   "outputs": [
    {
     "name": "stderr",
     "output_type": "stream",
     "text": [
      "C:\\Users\\ASUS\\AppData\\Local\\Temp\\ipykernel_14884\\1527787609.py:1: SettingWithCopyWarning: \n",
      "A value is trying to be set on a copy of a slice from a DataFrame.\n",
      "Try using .loc[row_indexer,col_indexer] = value instead\n",
      "\n",
      "See the caveats in the documentation: https://pandas.pydata.org/pandas-docs/stable/user_guide/indexing.html#returning-a-view-versus-a-copy\n",
      "  new_movies_data[\"tag\"]= new_movies_data[\"tag\"].apply(lambda x: x.lower())\n"
     ]
    }
   ],
   "source": [
    " new_movies_data[\"tag\"]= new_movies_data[\"tag\"].apply(lambda x: x.lower())"
   ]
  },
  {
   "cell_type": "code",
   "execution_count": 19,
   "id": "c47fe6c9",
   "metadata": {},
   "outputs": [],
   "source": [
    "from nltk.stem import PorterStemmer\n",
    "ps = PorterStemmer()"
   ]
  },
  {
   "cell_type": "code",
   "execution_count": 20,
   "id": "94f3aa8e",
   "metadata": {},
   "outputs": [],
   "source": [
    "def stem(text):\n",
    "    y = []\n",
    "    for i in text.split():\n",
    "        y.append(ps.stem(i))\n",
    "    return \" \".join(y)\n",
    "    "
   ]
  },
  {
   "cell_type": "code",
   "execution_count": 21,
   "id": "795803a3",
   "metadata": {},
   "outputs": [
    {
     "name": "stderr",
     "output_type": "stream",
     "text": [
      "C:\\Users\\ASUS\\AppData\\Local\\Temp\\ipykernel_14884\\2097464694.py:1: SettingWithCopyWarning: \n",
      "A value is trying to be set on a copy of a slice from a DataFrame.\n",
      "Try using .loc[row_indexer,col_indexer] = value instead\n",
      "\n",
      "See the caveats in the documentation: https://pandas.pydata.org/pandas-docs/stable/user_guide/indexing.html#returning-a-view-versus-a-copy\n",
      "  new_movies_data[\"tag\"] = new_movies_data[\"tag\"].apply(stem)\n"
     ]
    }
   ],
   "source": [
    "new_movies_data[\"tag\"] = new_movies_data[\"tag\"].apply(stem)"
   ]
  },
  {
   "cell_type": "code",
   "execution_count": 22,
   "id": "fb8ca007",
   "metadata": {},
   "outputs": [],
   "source": [
    "from sklearn.feature_extraction.text import CountVectorizer\n",
    "cv = CountVectorizer(max_features=5000,stop_words='english')"
   ]
  },
  {
   "cell_type": "code",
   "execution_count": 23,
   "id": "dde5d1ea",
   "metadata": {},
   "outputs": [],
   "source": [
    "vector  =  cv.fit_transform(new_movies_data[\"tag\"]).toarray()"
   ]
  },
  {
   "cell_type": "code",
   "execution_count": 24,
   "id": "ff854efd",
   "metadata": {},
   "outputs": [],
   "source": [
    "from sklearn.metrics.pairwise import cosine_similarity\n",
    "similarity  = cosine_similarity(vector)"
   ]
  },
  {
   "cell_type": "code",
   "execution_count": 36,
   "id": "7b049b67",
   "metadata": {},
   "outputs": [],
   "source": [
    "def recommend(movie):\n",
    "    index = new_movies_data[new_movies_data['title'] == movie].index[0]\n",
    "    distances = sorted(list(enumerate(similarity[index])),reverse=True,key = lambda x: x[1])\n",
    "    for i in distances[1:6]:\n",
    "        print(new_movies_data.iloc[i[0]].title)\n",
    "        "
   ]
  },
  {
   "cell_type": "code",
   "execution_count": 37,
   "id": "a5e6b75f",
   "metadata": {},
   "outputs": [
    {
     "name": "stdout",
     "output_type": "stream",
     "text": [
      "Batman\n",
      "Batman & Robin\n",
      "Batman Begins\n",
      "Batman Returns\n",
      "The R.M.\n"
     ]
    }
   ],
   "source": [
    "recommend('Batman')"
   ]
  },
  {
   "cell_type": "code",
   "execution_count": 27,
   "id": "eca017dc",
   "metadata": {},
   "outputs": [],
   "source": [
    "import pickle"
   ]
  },
  {
   "cell_type": "code",
   "execution_count": 28,
   "id": "fe5bdbc9",
   "metadata": {},
   "outputs": [],
   "source": [
    "pickle.dump(new_movies_data,open(\"movie_data.pkl\",\"wb\"))\n",
    "pickle.dump(similarity,open(\"similarity.pkl\",\"wb\"))"
   ]
  },
  {
   "cell_type": "code",
   "execution_count": 42,
   "id": "45fade67",
   "metadata": {},
   "outputs": [
    {
     "data": {
      "text/plain": [
       "19995"
      ]
     },
     "execution_count": 42,
     "metadata": {},
     "output_type": "execute_result"
    }
   ],
   "source": [
    "new_movies_data.iloc[0].movie_id"
   ]
  },
  {
   "cell_type": "code",
   "execution_count": null,
   "id": "d13a6160",
   "metadata": {},
   "outputs": [],
   "source": []
  }
 ],
 "metadata": {
  "kernelspec": {
   "display_name": "Python 3 (ipykernel)",
   "language": "python",
   "name": "python3"
  },
  "language_info": {
   "codemirror_mode": {
    "name": "ipython",
    "version": 3
   },
   "file_extension": ".py",
   "mimetype": "text/x-python",
   "name": "python",
   "nbconvert_exporter": "python",
   "pygments_lexer": "ipython3",
   "version": "3.11.5"
  }
 },
 "nbformat": 4,
 "nbformat_minor": 5
}
